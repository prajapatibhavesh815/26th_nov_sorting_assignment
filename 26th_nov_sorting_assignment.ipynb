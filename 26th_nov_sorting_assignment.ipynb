{
 "cells": [
  {
   "cell_type": "markdown",
   "metadata": {},
   "source": [
    "Problem 1.Given an array of n numbers, give an algorithm which gives the element appearing maximum number of times?"
   ]
  },
  {
   "cell_type": "code",
   "execution_count": 3,
   "metadata": {},
   "outputs": [
    {
     "name": "stdout",
     "output_type": "stream",
     "text": [
      "Element appearing maximum number of times: 2\n"
     ]
    }
   ],
   "source": [
    "def find_max_occurrence(arr):\n",
    "    frequency_dict = {}\n",
    "\n",
    "# count the frequency of each element in the array\n",
    " \n",
    "    for num in arr:\n",
    "        if num in frequency_dict:\n",
    "            frequency_dict[num] += 1\n",
    "        else:\n",
    "            frequency_dict[num] = 1\n",
    "\n",
    "# find the element with the maximum frequency\n",
    "    max_element = max(frequency_dict, key =frequency_dict.get)\n",
    "    return max_element\n",
    "\n",
    "#driver code\n",
    "arr = [1,2,3,2,4,2,5,2,6,2,7,8,2,9]\n",
    "result = find_max_occurrence(arr)\n",
    "print(\"Element appearing maximum number of times:\",result)                    \n",
    "\n",
    "   "
   ]
  },
  {
   "cell_type": "markdown",
   "metadata": {},
   "source": [
    "Problem 2 : We are given a list of n-1 integers and these integers are in the range of 1 to n . There are no duplicates in the list. One of the integers is missing in the list. Give an algorithm to find that element Ex: [1,2,4,6,3,7,8] 5 is the missing num."
   ]
  },
  {
   "cell_type": "code",
   "execution_count": 4,
   "metadata": {},
   "outputs": [
    {
     "name": "stdout",
     "output_type": "stream",
     "text": [
      "missing element 5\n"
     ]
    }
   ],
   "source": [
    "def find__missing_element(nums):\n",
    "    # Total number of elements including the missing one\n",
    "    n= len(nums) + 1\n",
    "    # Sum of first n natural numbers\n",
    "    total_sum = n*(n+1)//2\n",
    "\n",
    "    # Sum of the given list\n",
    "    list_sum = sum(nums)\n",
    "\n",
    "    # The missing element is the difference between the total sum and the list sum\n",
    "    missing_element = total_sum - list_sum\n",
    "\n",
    "    return missing_element\n",
    "\n",
    "\n",
    "#driver code\n",
    "nums = [1,2,4,6,3,7,8]\n",
    "result = find__missing_element(nums)\n",
    "print(\"missing element\",result)\n"
   ]
  },
  {
   "cell_type": "markdown",
   "metadata": {},
   "source": [
    "Problem 3 : Given an array of n positive numbers. All numbers occurs even number of times except 1 which\n",
    "occurs odd number of times. Find that number in O(n) time and O(1) space. Ex: [1,2,3,2,3,1,3]. 3 is repeats odd\n",
    "times."
   ]
  },
  {
   "cell_type": "code",
   "execution_count": 10,
   "metadata": {},
   "outputs": [
    {
     "name": "stdout",
     "output_type": "stream",
     "text": [
      "number occurring odd number of times: 3\n"
     ]
    }
   ],
   "source": [
    "def find_odd_occurrence(arr):\n",
    "    result = 0\n",
    "\n",
    "    # Xor all elements in the array\n",
    "    for num in arr:\n",
    "        result ^= num\n",
    "\n",
    "\n",
    "    return result\n",
    "\n",
    "#driver code\n",
    "\n",
    "arr = [1,2,3,2,3,1,3]   \n",
    "result  = find_odd_occurrence(arr)\n",
    "print(\"number occurring odd number of times:\",result)  "
   ]
  },
  {
   "cell_type": "markdown",
   "metadata": {},
   "source": [
    "Problem 4 : Given an array of n elements. Find two elements in the array such that their sum is equal to given\n",
    "element K."
   ]
  },
  {
   "cell_type": "code",
   "execution_count": 12,
   "metadata": {},
   "outputs": [
    {
     "name": "stdout",
     "output_type": "stream",
     "text": [
      "Pair with sum 9 found: 5 and 4\n"
     ]
    }
   ],
   "source": [
    "def find_pair_with_sum(arr,target_sum):\n",
    "    seen_numbers = set()\n",
    "\n",
    "    for num in arr:\n",
    "        complement = target_sum - num\n",
    "        if complement in seen_numbers:\n",
    "            return num,complement\n",
    "        seen_numbers.add(num)\n",
    "    # No pair found\n",
    "    return None\n",
    "\n",
    "\n",
    "# Driver code\n",
    "arr = [1,2,3,4,5,6]\n",
    "target_sum = 9\n",
    "result = find_pair_with_sum(arr,target_sum)\n",
    "\n",
    "if result:\n",
    "    print(f\"Pair with sum {target_sum} found: {result[0]} and {result[1]}\")\n",
    "else:\n",
    "    print(f\"No pair found with sum {target_sum}\")    "
   ]
  },
  {
   "cell_type": "markdown",
   "metadata": {},
   "source": [
    "Problem 5 : Given an array of both positive and negative numbers, find two numbers such that their sum is\n",
    "closest to 0. Ex: [ 1 ,60 ,-10, 70, -80,85]. Ans : -80,85."
   ]
  },
  {
   "cell_type": "code",
   "execution_count": 14,
   "metadata": {},
   "outputs": [
    {
     "name": "stdout",
     "output_type": "stream",
     "text": [
      "pair with sum closest to 0: (-80, 85)\n"
     ]
    }
   ],
   "source": [
    "def find_closest_sum_to_zero(arr):\n",
    "    arr.sort()\n",
    "    min_sum = float('inf')\n",
    "    result_pair = None\n",
    "\n",
    "    left, right = 0, len(arr) - 1\n",
    "    while left < right:\n",
    "        current_sum = arr[left] + arr[right]\n",
    "\n",
    "        if abs(current_sum) < abs(min_sum):\n",
    "            min_sum = current_sum\n",
    "            result_pair = (arr[left], arr[right])\n",
    "\n",
    "        if current_sum < 0:\n",
    "            left += 1\n",
    "\n",
    "        else:\n",
    "            right -= 1\n",
    "\n",
    "    return result_pair\n",
    "\n",
    "\n",
    "#driver code\n",
    "arr = [1,60,-10,70,-80,85]\n",
    "result = find_closest_sum_to_zero(arr)\n",
    "\n",
    "print(\"pair with sum closest to 0:\",result)"
   ]
  },
  {
   "cell_type": "markdown",
   "metadata": {},
   "source": [
    "Problem 6 : Given an array of n elements . Find three elements such that their sum is equal to the given\n",
    "number."
   ]
  },
  {
   "cell_type": "code",
   "execution_count": 16,
   "metadata": {},
   "outputs": [
    {
     "name": "stdout",
     "output_type": "stream",
     "text": [
      "Triplet with sum 17 found: 2, 6,9\n"
     ]
    }
   ],
   "source": [
    "def find_triplet_with_sum(arr,target_sum):\n",
    "    arr.sort()\n",
    "    n = len(arr)\n",
    "\n",
    "    for i in range(n -2):\n",
    "        left,right = i+1,n-1\n",
    "\n",
    "        while left < right:\n",
    "            current_sum = arr[i] + arr[left] + arr[right]\n",
    "\n",
    "            if current_sum == target_sum:\n",
    "                return arr[i], arr[left], arr[right]\n",
    "            elif current_sum < target_sum:\n",
    "                left += 1\n",
    "            else:\n",
    "                right -= 1\n",
    "\n",
    "    return None # No triplet found\n",
    "\n",
    "# driver code\n",
    "arr = [1,4,2,8,3,9,6]\n",
    "target_sum = 17\n",
    "result = find_triplet_with_sum(arr,target_sum)\n",
    "\n",
    "if result:\n",
    "    print(f\"Triplet with sum {target_sum} found: {result[0]}, {result[1]},{result[2]}\")\n",
    "else:\n",
    "    print(f\"No triplet found with sum {target_sum}\")    \n"
   ]
  },
  {
   "cell_type": "markdown",
   "metadata": {},
   "source": [
    "Problem 7 : Given an array of n elements . Find three elements i, j, k in the array such that\n",
    "\n",
    "i * i + j * j = k*k."
   ]
  },
  {
   "cell_type": "code",
   "execution_count": 1,
   "metadata": {},
   "outputs": [
    {
     "name": "stdout",
     "output_type": "stream",
     "text": [
      "the pythagorean triplet is: (5, 12, 13)\n"
     ]
    }
   ],
   "source": [
    "def find_pythagorean_triplet(arr):\n",
    "    n = len(arr)\n",
    "\n",
    "    for i in range(n):\n",
    "        for j in range(i + 1, n):\n",
    "            for k in range(j + 1, n):\n",
    "                a = arr[i]\n",
    "                b = arr[j]\n",
    "                c = arr[k]\n",
    "\n",
    "                # Check if the condition holds\n",
    "                if a *a+b*b==c*c or a*a==b*b+c*c or b*b==a*a+c*c:\n",
    "                    return (a,b,c)\n",
    "    # return None if no such triplet is found\n",
    "    return None\n",
    "\n",
    "#driver code\n",
    "arr = [3,5,12,13,15,7]\n",
    "result = find_pythagorean_triplet(arr)\n",
    "\n",
    "if result:\n",
    "    print(f\"the pythagorean triplet is: {result}\")\n",
    "else:\n",
    "    print(\"No pythagorean triplet found in the array\")    "
   ]
  },
  {
   "cell_type": "markdown",
   "metadata": {},
   "source": [
    "Problem 8 : An element is a majority if it appears more than n/2 times. Give an algorithm takes an array of n\n",
    "element as argument and identifies a majority (if it exists)."
   ]
  },
  {
   "cell_type": "code",
   "execution_count": 2,
   "metadata": {},
   "outputs": [
    {
     "name": "stdout",
     "output_type": "stream",
     "text": [
      "The majority element is: 4\n"
     ]
    }
   ],
   "source": [
    "def find_majority_element(arr):\n",
    "    candidate = None\n",
    "    count = 0\n",
    "\n",
    "    for num in arr:\n",
    "        if count == 0:\n",
    "            candidate = num \n",
    "            count = 1\n",
    "        elif candidate == num:\n",
    "            count += 1\n",
    "        else:\n",
    "            count -= 1\n",
    "\n",
    "    # verify if the candidate is a majority element\n",
    "    count = 0\n",
    "    for num in arr:\n",
    "        if num == candidate:\n",
    "            count += 1\n",
    "\n",
    "    if count > len(arr)//2:\n",
    "        return candidate\n",
    "    else:\n",
    "          return None\n",
    "\n",
    "#driver code\n",
    "arr = [3,3,4,2,4,4,2,4,4,]\n",
    "result = find_majority_element(arr)\n",
    "\n",
    "if result is not None:\n",
    "    print(f\"The majority element is: {result}\")\n",
    "\n",
    "else:\n",
    "    print(\"No majority element found in the array\")    "
   ]
  },
  {
   "cell_type": "markdown",
   "metadata": {},
   "source": [
    "Problem 9 : Given n × n matrix, and in each row all 1’s are followed by 0’s. Find the row with the maximum\n",
    "number of 0’s."
   ]
  },
  {
   "cell_type": "code",
   "execution_count": 6,
   "metadata": {},
   "outputs": [
    {
     "name": "stdout",
     "output_type": "stream",
     "text": [
      "The row with the maximum number of 0's is: 2\n"
     ]
    }
   ],
   "source": [
    "def find_max_zeros_row(matrix):\n",
    "    rows , cols = len(matrix), len(matrix[0])\n",
    "    max_zeros_row = -1\n",
    "    max_zeros_count = -1\n",
    "\n",
    "    for row in range(rows):\n",
    "        left, right = 0, cols - 1\n",
    "        zeros_count = 0\n",
    "\n",
    "        while left <= right:\n",
    "            mid = left + (right - left)//2\n",
    "\n",
    "            if matrix[row][mid]==0:\n",
    "                zeros_count = cols - mid #count of zeros from mid to the right\n",
    "                right = mid -1\n",
    "            else:\n",
    "                left = mid +1\n",
    "        if zeros_count > max_zeros_count:\n",
    "            max_zeros_count = zeros_count\n",
    "            max_zeros_row = row\n",
    "\n",
    "    return max_zeros_row\n",
    "\n",
    "#driver code\n",
    "\n",
    "matrix = [\n",
    "    [1,1,1,0,0],\n",
    "    [1,1,0,0,0],\n",
    "    [1,0,0,0,0],\n",
    "    [1,1,1,1,0],\n",
    "    [1,1,1,1,1]\n",
    "]                    \n",
    "\n",
    "result = find_max_zeros_row(matrix)\n",
    "\n",
    "if result != -1:\n",
    "    print(f\"The row with the maximum number of 0's is: {result}\")\n",
    "else:\n",
    "    print(\"No such row found.\")\n"
   ]
  },
  {
   "cell_type": "markdown",
   "metadata": {},
   "source": [
    "Problem 10 : Sort an array of 0’s, 1’s and 2’s [or R’s, G’s and B’s]: Given an array A[] consisting of 0’s, 1’s and\n",
    "2’s, give an algorithm for sorting A[].The algorithm should put all 0’s first, then all 1’s and finally all 2’s at the\n",
    "end. Example Input = {0,1,1,0,1,2,1,2,0,0,0,1}, Output = {0,0,0,0,0,1,1,1,1,1,2,2}"
   ]
  },
  {
   "cell_type": "code",
   "execution_count": 10,
   "metadata": {},
   "outputs": [
    {
     "name": "stdout",
     "output_type": "stream",
     "text": [
      "Sorted Array: [0, 0, 0, 0, 0, 1, 1, 1, 1, 1, 2, 2]\n"
     ]
    }
   ],
   "source": [
    "def sort_colors(nums):\n",
    "    low , mid, high = 0, 0, len(nums) -1\n",
    "\n",
    "    while mid <= high:\n",
    "        if nums[mid] ==0:\n",
    "            nums[low], nums[mid] = nums[mid], nums[low]\n",
    "            low += 1\n",
    "            mid += 1\n",
    "        elif nums[mid] == 1:\n",
    "            mid += 1\n",
    "\n",
    "        else:\n",
    "            nums[mid], nums[high] = nums[high],nums[mid]\n",
    "            high -= 1\n",
    "\n",
    "#driver code\n",
    "\n",
    "arr = [0,1,1,0,1,2,1,2,0,0,0,1]\n",
    "sort_colors(arr)\n",
    "print(\"Sorted Array:\", arr )                            \n"
   ]
  },
  {
   "cell_type": "code",
   "execution_count": null,
   "metadata": {},
   "outputs": [],
   "source": []
  }
 ],
 "metadata": {
  "kernelspec": {
   "display_name": "base",
   "language": "python",
   "name": "python3"
  },
  "language_info": {
   "codemirror_mode": {
    "name": "ipython",
    "version": 3
   },
   "file_extension": ".py",
   "mimetype": "text/x-python",
   "name": "python",
   "nbconvert_exporter": "python",
   "pygments_lexer": "ipython3",
   "version": "3.11.5"
  }
 },
 "nbformat": 4,
 "nbformat_minor": 2
}
